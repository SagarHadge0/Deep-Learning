{
 "cells": [
  {
   "cell_type": "code",
   "execution_count": 1,
   "id": "c03d83d9",
   "metadata": {},
   "outputs": [],
   "source": [
    "import numpy as np\n",
    "import pandas as pd\n",
    "import matplotlib.pyplot as plt\n",
    "import seaborn as sns\n",
    "sns.set_style('darkgrid')"
   ]
  },
  {
   "cell_type": "code",
   "execution_count": 2,
   "id": "c297f0ca",
   "metadata": {},
   "outputs": [],
   "source": [
    "data = pd.read_csv('multisat.csv')"
   ]
  },
  {
   "cell_type": "code",
   "execution_count": 3,
   "id": "eda4a8c2",
   "metadata": {},
   "outputs": [
    {
     "data": {
      "text/html": [
       "<div>\n",
       "<style scoped>\n",
       "    .dataframe tbody tr th:only-of-type {\n",
       "        vertical-align: middle;\n",
       "    }\n",
       "\n",
       "    .dataframe tbody tr th {\n",
       "        vertical-align: top;\n",
       "    }\n",
       "\n",
       "    .dataframe thead th {\n",
       "        text-align: right;\n",
       "    }\n",
       "</style>\n",
       "<table border=\"1\" class=\"dataframe\">\n",
       "  <thead>\n",
       "    <tr style=\"text-align: right;\">\n",
       "      <th></th>\n",
       "      <th>SAT</th>\n",
       "      <th>GPA</th>\n",
       "      <th>Rand 1,2,3</th>\n",
       "    </tr>\n",
       "  </thead>\n",
       "  <tbody>\n",
       "    <tr>\n",
       "      <th>0</th>\n",
       "      <td>1714</td>\n",
       "      <td>2.40</td>\n",
       "      <td>1</td>\n",
       "    </tr>\n",
       "    <tr>\n",
       "      <th>1</th>\n",
       "      <td>1664</td>\n",
       "      <td>2.52</td>\n",
       "      <td>3</td>\n",
       "    </tr>\n",
       "    <tr>\n",
       "      <th>2</th>\n",
       "      <td>1760</td>\n",
       "      <td>2.54</td>\n",
       "      <td>3</td>\n",
       "    </tr>\n",
       "    <tr>\n",
       "      <th>3</th>\n",
       "      <td>1685</td>\n",
       "      <td>2.74</td>\n",
       "      <td>3</td>\n",
       "    </tr>\n",
       "    <tr>\n",
       "      <th>4</th>\n",
       "      <td>1693</td>\n",
       "      <td>2.83</td>\n",
       "      <td>2</td>\n",
       "    </tr>\n",
       "    <tr>\n",
       "      <th>...</th>\n",
       "      <td>...</td>\n",
       "      <td>...</td>\n",
       "      <td>...</td>\n",
       "    </tr>\n",
       "    <tr>\n",
       "      <th>79</th>\n",
       "      <td>1936</td>\n",
       "      <td>3.71</td>\n",
       "      <td>3</td>\n",
       "    </tr>\n",
       "    <tr>\n",
       "      <th>80</th>\n",
       "      <td>1810</td>\n",
       "      <td>3.71</td>\n",
       "      <td>1</td>\n",
       "    </tr>\n",
       "    <tr>\n",
       "      <th>81</th>\n",
       "      <td>1987</td>\n",
       "      <td>3.73</td>\n",
       "      <td>3</td>\n",
       "    </tr>\n",
       "    <tr>\n",
       "      <th>82</th>\n",
       "      <td>1962</td>\n",
       "      <td>3.76</td>\n",
       "      <td>1</td>\n",
       "    </tr>\n",
       "    <tr>\n",
       "      <th>83</th>\n",
       "      <td>2050</td>\n",
       "      <td>3.81</td>\n",
       "      <td>2</td>\n",
       "    </tr>\n",
       "  </tbody>\n",
       "</table>\n",
       "<p>84 rows × 3 columns</p>\n",
       "</div>"
      ],
      "text/plain": [
       "     SAT   GPA  Rand 1,2,3\n",
       "0   1714  2.40           1\n",
       "1   1664  2.52           3\n",
       "2   1760  2.54           3\n",
       "3   1685  2.74           3\n",
       "4   1693  2.83           2\n",
       "..   ...   ...         ...\n",
       "79  1936  3.71           3\n",
       "80  1810  3.71           1\n",
       "81  1987  3.73           3\n",
       "82  1962  3.76           1\n",
       "83  2050  3.81           2\n",
       "\n",
       "[84 rows x 3 columns]"
      ]
     },
     "execution_count": 3,
     "metadata": {},
     "output_type": "execute_result"
    }
   ],
   "source": [
    "data"
   ]
  },
  {
   "cell_type": "code",
   "execution_count": 5,
   "id": "2b3cfee7",
   "metadata": {},
   "outputs": [],
   "source": [
    "x = data[['SAT','Rand 1,2,3']]"
   ]
  },
  {
   "cell_type": "code",
   "execution_count": 6,
   "id": "79b333fa",
   "metadata": {},
   "outputs": [
    {
     "data": {
      "text/html": [
       "<div>\n",
       "<style scoped>\n",
       "    .dataframe tbody tr th:only-of-type {\n",
       "        vertical-align: middle;\n",
       "    }\n",
       "\n",
       "    .dataframe tbody tr th {\n",
       "        vertical-align: top;\n",
       "    }\n",
       "\n",
       "    .dataframe thead th {\n",
       "        text-align: right;\n",
       "    }\n",
       "</style>\n",
       "<table border=\"1\" class=\"dataframe\">\n",
       "  <thead>\n",
       "    <tr style=\"text-align: right;\">\n",
       "      <th></th>\n",
       "      <th>SAT</th>\n",
       "      <th>Rand 1,2,3</th>\n",
       "    </tr>\n",
       "  </thead>\n",
       "  <tbody>\n",
       "    <tr>\n",
       "      <th>0</th>\n",
       "      <td>1714</td>\n",
       "      <td>1</td>\n",
       "    </tr>\n",
       "    <tr>\n",
       "      <th>1</th>\n",
       "      <td>1664</td>\n",
       "      <td>3</td>\n",
       "    </tr>\n",
       "    <tr>\n",
       "      <th>2</th>\n",
       "      <td>1760</td>\n",
       "      <td>3</td>\n",
       "    </tr>\n",
       "    <tr>\n",
       "      <th>3</th>\n",
       "      <td>1685</td>\n",
       "      <td>3</td>\n",
       "    </tr>\n",
       "    <tr>\n",
       "      <th>4</th>\n",
       "      <td>1693</td>\n",
       "      <td>2</td>\n",
       "    </tr>\n",
       "    <tr>\n",
       "      <th>...</th>\n",
       "      <td>...</td>\n",
       "      <td>...</td>\n",
       "    </tr>\n",
       "    <tr>\n",
       "      <th>79</th>\n",
       "      <td>1936</td>\n",
       "      <td>3</td>\n",
       "    </tr>\n",
       "    <tr>\n",
       "      <th>80</th>\n",
       "      <td>1810</td>\n",
       "      <td>1</td>\n",
       "    </tr>\n",
       "    <tr>\n",
       "      <th>81</th>\n",
       "      <td>1987</td>\n",
       "      <td>3</td>\n",
       "    </tr>\n",
       "    <tr>\n",
       "      <th>82</th>\n",
       "      <td>1962</td>\n",
       "      <td>1</td>\n",
       "    </tr>\n",
       "    <tr>\n",
       "      <th>83</th>\n",
       "      <td>2050</td>\n",
       "      <td>2</td>\n",
       "    </tr>\n",
       "  </tbody>\n",
       "</table>\n",
       "<p>84 rows × 2 columns</p>\n",
       "</div>"
      ],
      "text/plain": [
       "     SAT  Rand 1,2,3\n",
       "0   1714           1\n",
       "1   1664           3\n",
       "2   1760           3\n",
       "3   1685           3\n",
       "4   1693           2\n",
       "..   ...         ...\n",
       "79  1936           3\n",
       "80  1810           1\n",
       "81  1987           3\n",
       "82  1962           1\n",
       "83  2050           2\n",
       "\n",
       "[84 rows x 2 columns]"
      ]
     },
     "execution_count": 6,
     "metadata": {},
     "output_type": "execute_result"
    }
   ],
   "source": [
    "x"
   ]
  },
  {
   "cell_type": "code",
   "execution_count": 7,
   "id": "9b33894f",
   "metadata": {},
   "outputs": [],
   "source": [
    "y = data['GPA']"
   ]
  },
  {
   "cell_type": "code",
   "execution_count": 8,
   "id": "2188578b",
   "metadata": {},
   "outputs": [
    {
     "data": {
      "text/plain": [
       "0     2.40\n",
       "1     2.52\n",
       "2     2.54\n",
       "3     2.74\n",
       "4     2.83\n",
       "      ... \n",
       "79    3.71\n",
       "80    3.71\n",
       "81    3.73\n",
       "82    3.76\n",
       "83    3.81\n",
       "Name: GPA, Length: 84, dtype: float64"
      ]
     },
     "execution_count": 8,
     "metadata": {},
     "output_type": "execute_result"
    }
   ],
   "source": [
    "y"
   ]
  },
  {
   "cell_type": "code",
   "execution_count": 9,
   "id": "dfd8b31f",
   "metadata": {},
   "outputs": [],
   "source": [
    "from keras.models import Sequential\n",
    "from keras.layers import Dense"
   ]
  },
  {
   "cell_type": "code",
   "execution_count": 10,
   "id": "7a69e83f",
   "metadata": {},
   "outputs": [],
   "source": [
    "model = Sequential()"
   ]
  },
  {
   "cell_type": "code",
   "execution_count": 12,
   "id": "6fd7b9eb",
   "metadata": {},
   "outputs": [],
   "source": [
    "model.add(Dense(10,input_dim=2,activation='relu'))\n",
    "model.add(Dense(10,activation='relu'))\n",
    "model.add(Dense(10,activation='relu'))\n",
    "model.add(Dense(1))"
   ]
  },
  {
   "cell_type": "code",
   "execution_count": 13,
   "id": "36024281",
   "metadata": {},
   "outputs": [
    {
     "name": "stdout",
     "output_type": "stream",
     "text": [
      "Model: \"sequential\"\n",
      "_________________________________________________________________\n",
      "Layer (type)                 Output Shape              Param #   \n",
      "=================================================================\n",
      "dense (Dense)                (None, 10)                30        \n",
      "_________________________________________________________________\n",
      "dense_1 (Dense)              (None, 10)                110       \n",
      "_________________________________________________________________\n",
      "dense_2 (Dense)              (None, 10)                110       \n",
      "_________________________________________________________________\n",
      "dense_3 (Dense)              (None, 10)                110       \n",
      "_________________________________________________________________\n",
      "dense_4 (Dense)              (None, 10)                110       \n",
      "_________________________________________________________________\n",
      "dense_5 (Dense)              (None, 1)                 11        \n",
      "=================================================================\n",
      "Total params: 481\n",
      "Trainable params: 481\n",
      "Non-trainable params: 0\n",
      "_________________________________________________________________\n"
     ]
    }
   ],
   "source": [
    "model.summary()"
   ]
  },
  {
   "cell_type": "code",
   "execution_count": 14,
   "id": "1d8dbb28",
   "metadata": {},
   "outputs": [],
   "source": [
    "model.compile(loss ='mean_squared_error',optimizer='adam',metrics=['accuracy'])"
   ]
  },
  {
   "cell_type": "code",
   "execution_count": 17,
   "id": "cde29e3d",
   "metadata": {},
   "outputs": [
    {
     "name": "stdout",
     "output_type": "stream",
     "text": [
      "Epoch 1/50\n",
      "3/3 [==============================] - 0s 61ms/step - loss: 8287.4707 - accuracy: 0.0000e+00 - val_loss: 4046.1074 - val_accuracy: 0.0000e+00\n",
      "Epoch 2/50\n",
      "3/3 [==============================] - 0s 8ms/step - loss: 2809.2883 - accuracy: 0.0000e+00 - val_loss: 708.7856 - val_accuracy: 0.0000e+00\n",
      "Epoch 3/50\n",
      "3/3 [==============================] - 0s 8ms/step - loss: 396.9528 - accuracy: 0.0000e+00 - val_loss: 0.0580 - val_accuracy: 0.0000e+00\n",
      "Epoch 4/50\n",
      "3/3 [==============================] - 0s 8ms/step - loss: 7.6613 - accuracy: 0.0000e+00 - val_loss: 90.7082 - val_accuracy: 0.0000e+00\n",
      "Epoch 5/50\n",
      "3/3 [==============================] - 0s 8ms/step - loss: 109.8281 - accuracy: 0.0000e+00 - val_loss: 246.1101 - val_accuracy: 0.0000e+00\n",
      "Epoch 6/50\n",
      "3/3 [==============================] - 0s 8ms/step - loss: 244.7511 - accuracy: 0.0000e+00 - val_loss: 353.6924 - val_accuracy: 0.0000e+00\n",
      "Epoch 7/50\n",
      "3/3 [==============================] - 0s 8ms/step - loss: 326.5910 - accuracy: 0.0000e+00 - val_loss: 377.2691 - val_accuracy: 0.0000e+00\n",
      "Epoch 8/50\n",
      "3/3 [==============================] - 0s 0s/step - loss: 334.0736 - accuracy: 0.0000e+00 - val_loss: 329.6170 - val_accuracy: 0.0000e+00\n",
      "Epoch 9/50\n",
      "3/3 [==============================] - 0s 8ms/step - loss: 283.3518 - accuracy: 0.0000e+00 - val_loss: 243.4318 - val_accuracy: 0.0000e+00\n",
      "Epoch 10/50\n",
      "3/3 [==============================] - 0s 8ms/step - loss: 204.2942 - accuracy: 0.0000e+00 - val_loss: 151.7479 - val_accuracy: 0.0000e+00\n",
      "Epoch 11/50\n",
      "3/3 [==============================] - 0s 8ms/step - loss: 123.9714 - accuracy: 0.0000e+00 - val_loss: 76.3368 - val_accuracy: 0.0000e+00\n",
      "Epoch 12/50\n",
      "3/3 [==============================] - 0s 8ms/step - loss: 60.4364 - accuracy: 0.0000e+00 - val_loss: 27.1401 - val_accuracy: 0.0000e+00\n",
      "Epoch 13/50\n",
      "3/3 [==============================] - 0s 8ms/step - loss: 20.3872 - accuracy: 0.0000e+00 - val_loss: 4.1491 - val_accuracy: 0.0000e+00\n",
      "Epoch 14/50\n",
      "3/3 [==============================] - 0s 8ms/step - loss: 2.8416 - accuracy: 0.0000e+00 - val_loss: 0.3611 - val_accuracy: 0.0000e+00\n",
      "Epoch 15/50\n",
      "3/3 [==============================] - 0s 8ms/step - loss: 0.7633 - accuracy: 0.0000e+00 - val_loss: 6.2972 - val_accuracy: 0.0000e+00\n",
      "Epoch 16/50\n",
      "3/3 [==============================] - 0s 8ms/step - loss: 6.0029 - accuracy: 0.0000e+00 - val_loss: 13.7582 - val_accuracy: 0.0000e+00\n",
      "Epoch 17/50\n",
      "3/3 [==============================] - 0s 8ms/step - loss: 11.8429 - accuracy: 0.0000e+00 - val_loss: 17.8900 - val_accuracy: 0.0000e+00\n",
      "Epoch 18/50\n",
      "3/3 [==============================] - 0s 16ms/step - loss: 14.5971 - accuracy: 0.0000e+00 - val_loss: 17.4169 - val_accuracy: 0.0000e+00\n",
      "Epoch 19/50\n",
      "3/3 [==============================] - 0s 8ms/step - loss: 13.5518 - accuracy: 0.0000e+00 - val_loss: 13.5013 - val_accuracy: 0.0000e+00\n",
      "Epoch 20/50\n",
      "3/3 [==============================] - 0s 8ms/step - loss: 9.9660 - accuracy: 0.0000e+00 - val_loss: 8.3799 - val_accuracy: 0.0000e+00\n",
      "Epoch 21/50\n",
      "3/3 [==============================] - 0s 8ms/step - loss: 5.7479 - accuracy: 0.0000e+00 - val_loss: 3.9676 - val_accuracy: 0.0000e+00\n",
      "Epoch 22/50\n",
      "3/3 [==============================] - 0s 8ms/step - loss: 2.3990 - accuracy: 0.0000e+00 - val_loss: 1.2107 - val_accuracy: 0.0000e+00\n",
      "Epoch 23/50\n",
      "3/3 [==============================] - 0s 8ms/step - loss: 0.5634 - accuracy: 0.0000e+00 - val_loss: 0.1186 - val_accuracy: 0.0000e+00\n",
      "Epoch 24/50\n",
      "3/3 [==============================] - 0s 8ms/step - loss: 0.0529 - accuracy: 0.0000e+00 - val_loss: 0.0999 - val_accuracy: 0.0000e+00\n",
      "Epoch 25/50\n",
      "3/3 [==============================] - 0s 8ms/step - loss: 0.3191 - accuracy: 0.0000e+00 - val_loss: 0.4466 - val_accuracy: 0.0000e+00\n",
      "Epoch 26/50\n",
      "3/3 [==============================] - 0s 8ms/step - loss: 0.7225 - accuracy: 0.0000e+00 - val_loss: 0.6816 - val_accuracy: 0.0000e+00\n",
      "Epoch 27/50\n",
      "3/3 [==============================] - 0s 8ms/step - loss: 0.9300 - accuracy: 0.0000e+00 - val_loss: 0.6575 - val_accuracy: 0.0000e+00\n",
      "Epoch 28/50\n",
      "3/3 [==============================] - 0s 8ms/step - loss: 0.8594 - accuracy: 0.0000e+00 - val_loss: 0.4505 - val_accuracy: 0.0000e+00\n",
      "Epoch 29/50\n",
      "3/3 [==============================] - 0s 8ms/step - loss: 0.6114 - accuracy: 0.0000e+00 - val_loss: 0.2091 - val_accuracy: 0.0000e+00\n",
      "Epoch 30/50\n",
      "3/3 [==============================] - 0s 8ms/step - loss: 0.3365 - accuracy: 0.0000e+00 - val_loss: 0.0579 - val_accuracy: 0.0000e+00\n",
      "Epoch 31/50\n",
      "3/3 [==============================] - 0s 16ms/step - loss: 0.1412 - accuracy: 0.0000e+00 - val_loss: 0.0234 - val_accuracy: 0.0000e+00\n",
      "Epoch 32/50\n",
      "3/3 [==============================] - 0s 8ms/step - loss: 0.0546 - accuracy: 0.0000e+00 - val_loss: 0.0729 - val_accuracy: 0.0000e+00\n",
      "Epoch 33/50\n",
      "3/3 [==============================] - 0s 8ms/step - loss: 0.0480 - accuracy: 0.0000e+00 - val_loss: 0.1490 - val_accuracy: 0.0000e+00\n",
      "Epoch 34/50\n",
      "3/3 [==============================] - 0s 8ms/step - loss: 0.0736 - accuracy: 0.0000e+00 - val_loss: 0.2009 - val_accuracy: 0.0000e+00\n",
      "Epoch 35/50\n",
      "3/3 [==============================] - 0s 8ms/step - loss: 0.0947 - accuracy: 0.0000e+00 - val_loss: 0.2113 - val_accuracy: 0.0000e+00\n",
      "Epoch 36/50\n",
      "3/3 [==============================] - 0s 8ms/step - loss: 0.0965 - accuracy: 0.0000e+00 - val_loss: 0.1888 - val_accuracy: 0.0000e+00\n",
      "Epoch 37/50\n",
      "3/3 [==============================] - 0s 8ms/step - loss: 0.0834 - accuracy: 0.0000e+00 - val_loss: 0.1488 - val_accuracy: 0.0000e+00\n",
      "Epoch 38/50\n",
      "3/3 [==============================] - 0s 8ms/step - loss: 0.0653 - accuracy: 0.0000e+00 - val_loss: 0.1096 - val_accuracy: 0.0000e+00\n",
      "Epoch 39/50\n",
      "3/3 [==============================] - 0s 8ms/step - loss: 0.0515 - accuracy: 0.0000e+00 - val_loss: 0.0790 - val_accuracy: 0.0000e+00\n",
      "Epoch 40/50\n",
      "3/3 [==============================] - 0s 8ms/step - loss: 0.0446 - accuracy: 0.0000e+00 - val_loss: 0.0598 - val_accuracy: 0.0000e+00\n",
      "Epoch 41/50\n",
      "3/3 [==============================] - 0s 8ms/step - loss: 0.0425 - accuracy: 0.0000e+00 - val_loss: 0.0465 - val_accuracy: 0.0000e+00\n",
      "Epoch 42/50\n",
      "3/3 [==============================] - 0s 8ms/step - loss: 0.0438 - accuracy: 0.0000e+00 - val_loss: 0.0394 - val_accuracy: 0.0000e+00\n",
      "Epoch 43/50\n",
      "3/3 [==============================] - 0s 8ms/step - loss: 0.0454 - accuracy: 0.0000e+00 - val_loss: 0.0374 - val_accuracy: 0.0000e+00\n",
      "Epoch 44/50\n",
      "3/3 [==============================] - 0s 8ms/step - loss: 0.0460 - accuracy: 0.0000e+00 - val_loss: 0.0387 - val_accuracy: 0.0000e+00\n",
      "Epoch 45/50\n",
      "3/3 [==============================] - 0s 8ms/step - loss: 0.0452 - accuracy: 0.0000e+00 - val_loss: 0.0425 - val_accuracy: 0.0000e+00\n",
      "Epoch 46/50\n",
      "3/3 [==============================] - 0s 8ms/step - loss: 0.0441 - accuracy: 0.0000e+00 - val_loss: 0.0454 - val_accuracy: 0.0000e+00\n",
      "Epoch 47/50\n",
      "3/3 [==============================] - 0s 8ms/step - loss: 0.0436 - accuracy: 0.0000e+00 - val_loss: 0.0490 - val_accuracy: 0.0000e+00\n",
      "Epoch 48/50\n",
      "3/3 [==============================] - 0s 8ms/step - loss: 0.0429 - accuracy: 0.0000e+00 - val_loss: 0.0522 - val_accuracy: 0.0000e+00\n",
      "Epoch 49/50\n",
      "3/3 [==============================] - 0s 8ms/step - loss: 0.0426 - accuracy: 0.0000e+00 - val_loss: 0.0581 - val_accuracy: 0.0000e+00\n",
      "Epoch 50/50\n",
      "3/3 [==============================] - 0s 8ms/step - loss: 0.0427 - accuracy: 0.0000e+00 - val_loss: 0.0654 - val_accuracy: 0.0000e+00\n"
     ]
    },
    {
     "data": {
      "text/plain": [
       "<keras.callbacks.History at 0x2240cdbcb00>"
      ]
     },
     "execution_count": 17,
     "metadata": {},
     "output_type": "execute_result"
    }
   ],
   "source": [
    "model.fit(x,y,epochs=50,validation_split=0.2)"
   ]
  },
  {
   "cell_type": "code",
   "execution_count": 18,
   "id": "80d36323",
   "metadata": {},
   "outputs": [
    {
     "name": "stdout",
     "output_type": "stream",
     "text": [
      "3/3 [==============================] - 0s 0s/step - loss: 0.0476 - accuracy: 0.0000e+00\n"
     ]
    },
    {
     "data": {
      "text/plain": [
       "[0.047627322375774384, 0.0]"
      ]
     },
     "execution_count": 18,
     "metadata": {},
     "output_type": "execute_result"
    }
   ],
   "source": [
    "model.evaluate(x,y)"
   ]
  },
  {
   "cell_type": "code",
   "execution_count": null,
   "id": "35fccaa3",
   "metadata": {},
   "outputs": [],
   "source": []
  }
 ],
 "metadata": {
  "kernelspec": {
   "display_name": "Python 3",
   "language": "python",
   "name": "python3"
  },
  "language_info": {
   "codemirror_mode": {
    "name": "ipython",
    "version": 3
   },
   "file_extension": ".py",
   "mimetype": "text/x-python",
   "name": "python",
   "nbconvert_exporter": "python",
   "pygments_lexer": "ipython3",
   "version": "3.6.13"
  }
 },
 "nbformat": 4,
 "nbformat_minor": 5
}
