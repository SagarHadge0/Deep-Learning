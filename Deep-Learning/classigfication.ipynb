{
 "cells": [
  {
   "cell_type": "code",
   "execution_count": 109,
   "id": "24287762",
   "metadata": {},
   "outputs": [],
   "source": [
    "import numpy as np\n",
    "import pandas as pd\n",
    "import matplotlib.pyplot as plt\n",
    "import seaborn as sns\n"
   ]
  },
  {
   "cell_type": "code",
   "execution_count": 110,
   "id": "9ea84c29",
   "metadata": {},
   "outputs": [],
   "source": [
    "data = pd.read_csv('iris.csv',names=['sep_l','sep_w','pet_l','pet_w','label'])"
   ]
  },
  {
   "cell_type": "code",
   "execution_count": 111,
   "id": "2b5f5b46",
   "metadata": {},
   "outputs": [
    {
     "data": {
      "text/html": [
       "<div>\n",
       "<style scoped>\n",
       "    .dataframe tbody tr th:only-of-type {\n",
       "        vertical-align: middle;\n",
       "    }\n",
       "\n",
       "    .dataframe tbody tr th {\n",
       "        vertical-align: top;\n",
       "    }\n",
       "\n",
       "    .dataframe thead th {\n",
       "        text-align: right;\n",
       "    }\n",
       "</style>\n",
       "<table border=\"1\" class=\"dataframe\">\n",
       "  <thead>\n",
       "    <tr style=\"text-align: right;\">\n",
       "      <th></th>\n",
       "      <th>sep_l</th>\n",
       "      <th>sep_w</th>\n",
       "      <th>pet_l</th>\n",
       "      <th>pet_w</th>\n",
       "      <th>label</th>\n",
       "    </tr>\n",
       "  </thead>\n",
       "  <tbody>\n",
       "    <tr>\n",
       "      <th>0</th>\n",
       "      <td>5.1</td>\n",
       "      <td>3.5</td>\n",
       "      <td>1.4</td>\n",
       "      <td>0.2</td>\n",
       "      <td>Iris-setosa</td>\n",
       "    </tr>\n",
       "    <tr>\n",
       "      <th>1</th>\n",
       "      <td>4.9</td>\n",
       "      <td>3.0</td>\n",
       "      <td>1.4</td>\n",
       "      <td>0.2</td>\n",
       "      <td>Iris-setosa</td>\n",
       "    </tr>\n",
       "    <tr>\n",
       "      <th>2</th>\n",
       "      <td>4.7</td>\n",
       "      <td>3.2</td>\n",
       "      <td>1.3</td>\n",
       "      <td>0.2</td>\n",
       "      <td>Iris-setosa</td>\n",
       "    </tr>\n",
       "    <tr>\n",
       "      <th>3</th>\n",
       "      <td>4.6</td>\n",
       "      <td>3.1</td>\n",
       "      <td>1.5</td>\n",
       "      <td>0.2</td>\n",
       "      <td>Iris-setosa</td>\n",
       "    </tr>\n",
       "    <tr>\n",
       "      <th>4</th>\n",
       "      <td>5.0</td>\n",
       "      <td>3.6</td>\n",
       "      <td>1.4</td>\n",
       "      <td>0.2</td>\n",
       "      <td>Iris-setosa</td>\n",
       "    </tr>\n",
       "    <tr>\n",
       "      <th>...</th>\n",
       "      <td>...</td>\n",
       "      <td>...</td>\n",
       "      <td>...</td>\n",
       "      <td>...</td>\n",
       "      <td>...</td>\n",
       "    </tr>\n",
       "    <tr>\n",
       "      <th>145</th>\n",
       "      <td>6.7</td>\n",
       "      <td>3.0</td>\n",
       "      <td>5.2</td>\n",
       "      <td>2.3</td>\n",
       "      <td>Iris-virginica</td>\n",
       "    </tr>\n",
       "    <tr>\n",
       "      <th>146</th>\n",
       "      <td>6.3</td>\n",
       "      <td>2.5</td>\n",
       "      <td>5.0</td>\n",
       "      <td>1.9</td>\n",
       "      <td>Iris-virginica</td>\n",
       "    </tr>\n",
       "    <tr>\n",
       "      <th>147</th>\n",
       "      <td>6.5</td>\n",
       "      <td>3.0</td>\n",
       "      <td>5.2</td>\n",
       "      <td>2.0</td>\n",
       "      <td>Iris-virginica</td>\n",
       "    </tr>\n",
       "    <tr>\n",
       "      <th>148</th>\n",
       "      <td>6.2</td>\n",
       "      <td>3.4</td>\n",
       "      <td>5.4</td>\n",
       "      <td>2.3</td>\n",
       "      <td>Iris-virginica</td>\n",
       "    </tr>\n",
       "    <tr>\n",
       "      <th>149</th>\n",
       "      <td>5.9</td>\n",
       "      <td>3.0</td>\n",
       "      <td>5.1</td>\n",
       "      <td>1.8</td>\n",
       "      <td>Iris-virginica</td>\n",
       "    </tr>\n",
       "  </tbody>\n",
       "</table>\n",
       "<p>150 rows × 5 columns</p>\n",
       "</div>"
      ],
      "text/plain": [
       "     sep_l  sep_w  pet_l  pet_w           label\n",
       "0      5.1    3.5    1.4    0.2     Iris-setosa\n",
       "1      4.9    3.0    1.4    0.2     Iris-setosa\n",
       "2      4.7    3.2    1.3    0.2     Iris-setosa\n",
       "3      4.6    3.1    1.5    0.2     Iris-setosa\n",
       "4      5.0    3.6    1.4    0.2     Iris-setosa\n",
       "..     ...    ...    ...    ...             ...\n",
       "145    6.7    3.0    5.2    2.3  Iris-virginica\n",
       "146    6.3    2.5    5.0    1.9  Iris-virginica\n",
       "147    6.5    3.0    5.2    2.0  Iris-virginica\n",
       "148    6.2    3.4    5.4    2.3  Iris-virginica\n",
       "149    5.9    3.0    5.1    1.8  Iris-virginica\n",
       "\n",
       "[150 rows x 5 columns]"
      ]
     },
     "execution_count": 111,
     "metadata": {},
     "output_type": "execute_result"
    }
   ],
   "source": [
    "data"
   ]
  },
  {
   "cell_type": "code",
   "execution_count": 112,
   "id": "e88f2b04",
   "metadata": {},
   "outputs": [],
   "source": [
    "from sklearn.preprocessing import LabelEncoder"
   ]
  },
  {
   "cell_type": "code",
   "execution_count": 113,
   "id": "2d71aef4",
   "metadata": {},
   "outputs": [],
   "source": [
    "le = LabelEncoder()"
   ]
  },
  {
   "cell_type": "code",
   "execution_count": 114,
   "id": "db574499",
   "metadata": {},
   "outputs": [],
   "source": [
    "data['label'] = le.fit_transform(data['label'])"
   ]
  },
  {
   "cell_type": "code",
   "execution_count": 115,
   "id": "c3cb4f30",
   "metadata": {},
   "outputs": [
    {
     "data": {
      "text/html": [
       "<div>\n",
       "<style scoped>\n",
       "    .dataframe tbody tr th:only-of-type {\n",
       "        vertical-align: middle;\n",
       "    }\n",
       "\n",
       "    .dataframe tbody tr th {\n",
       "        vertical-align: top;\n",
       "    }\n",
       "\n",
       "    .dataframe thead th {\n",
       "        text-align: right;\n",
       "    }\n",
       "</style>\n",
       "<table border=\"1\" class=\"dataframe\">\n",
       "  <thead>\n",
       "    <tr style=\"text-align: right;\">\n",
       "      <th></th>\n",
       "      <th>sep_l</th>\n",
       "      <th>sep_w</th>\n",
       "      <th>pet_l</th>\n",
       "      <th>pet_w</th>\n",
       "      <th>label</th>\n",
       "    </tr>\n",
       "  </thead>\n",
       "  <tbody>\n",
       "    <tr>\n",
       "      <th>0</th>\n",
       "      <td>5.1</td>\n",
       "      <td>3.5</td>\n",
       "      <td>1.4</td>\n",
       "      <td>0.2</td>\n",
       "      <td>0</td>\n",
       "    </tr>\n",
       "    <tr>\n",
       "      <th>1</th>\n",
       "      <td>4.9</td>\n",
       "      <td>3.0</td>\n",
       "      <td>1.4</td>\n",
       "      <td>0.2</td>\n",
       "      <td>0</td>\n",
       "    </tr>\n",
       "    <tr>\n",
       "      <th>2</th>\n",
       "      <td>4.7</td>\n",
       "      <td>3.2</td>\n",
       "      <td>1.3</td>\n",
       "      <td>0.2</td>\n",
       "      <td>0</td>\n",
       "    </tr>\n",
       "    <tr>\n",
       "      <th>3</th>\n",
       "      <td>4.6</td>\n",
       "      <td>3.1</td>\n",
       "      <td>1.5</td>\n",
       "      <td>0.2</td>\n",
       "      <td>0</td>\n",
       "    </tr>\n",
       "    <tr>\n",
       "      <th>4</th>\n",
       "      <td>5.0</td>\n",
       "      <td>3.6</td>\n",
       "      <td>1.4</td>\n",
       "      <td>0.2</td>\n",
       "      <td>0</td>\n",
       "    </tr>\n",
       "    <tr>\n",
       "      <th>...</th>\n",
       "      <td>...</td>\n",
       "      <td>...</td>\n",
       "      <td>...</td>\n",
       "      <td>...</td>\n",
       "      <td>...</td>\n",
       "    </tr>\n",
       "    <tr>\n",
       "      <th>145</th>\n",
       "      <td>6.7</td>\n",
       "      <td>3.0</td>\n",
       "      <td>5.2</td>\n",
       "      <td>2.3</td>\n",
       "      <td>2</td>\n",
       "    </tr>\n",
       "    <tr>\n",
       "      <th>146</th>\n",
       "      <td>6.3</td>\n",
       "      <td>2.5</td>\n",
       "      <td>5.0</td>\n",
       "      <td>1.9</td>\n",
       "      <td>2</td>\n",
       "    </tr>\n",
       "    <tr>\n",
       "      <th>147</th>\n",
       "      <td>6.5</td>\n",
       "      <td>3.0</td>\n",
       "      <td>5.2</td>\n",
       "      <td>2.0</td>\n",
       "      <td>2</td>\n",
       "    </tr>\n",
       "    <tr>\n",
       "      <th>148</th>\n",
       "      <td>6.2</td>\n",
       "      <td>3.4</td>\n",
       "      <td>5.4</td>\n",
       "      <td>2.3</td>\n",
       "      <td>2</td>\n",
       "    </tr>\n",
       "    <tr>\n",
       "      <th>149</th>\n",
       "      <td>5.9</td>\n",
       "      <td>3.0</td>\n",
       "      <td>5.1</td>\n",
       "      <td>1.8</td>\n",
       "      <td>2</td>\n",
       "    </tr>\n",
       "  </tbody>\n",
       "</table>\n",
       "<p>150 rows × 5 columns</p>\n",
       "</div>"
      ],
      "text/plain": [
       "     sep_l  sep_w  pet_l  pet_w  label\n",
       "0      5.1    3.5    1.4    0.2      0\n",
       "1      4.9    3.0    1.4    0.2      0\n",
       "2      4.7    3.2    1.3    0.2      0\n",
       "3      4.6    3.1    1.5    0.2      0\n",
       "4      5.0    3.6    1.4    0.2      0\n",
       "..     ...    ...    ...    ...    ...\n",
       "145    6.7    3.0    5.2    2.3      2\n",
       "146    6.3    2.5    5.0    1.9      2\n",
       "147    6.5    3.0    5.2    2.0      2\n",
       "148    6.2    3.4    5.4    2.3      2\n",
       "149    5.9    3.0    5.1    1.8      2\n",
       "\n",
       "[150 rows x 5 columns]"
      ]
     },
     "execution_count": 115,
     "metadata": {},
     "output_type": "execute_result"
    }
   ],
   "source": [
    "data"
   ]
  },
  {
   "cell_type": "code",
   "execution_count": 116,
   "id": "28c175ce",
   "metadata": {},
   "outputs": [],
   "source": [
    "x = data.iloc[:,0:4].values"
   ]
  },
  {
   "cell_type": "code",
   "execution_count": 117,
   "id": "39287237",
   "metadata": {},
   "outputs": [
    {
     "data": {
      "text/plain": [
       "array([[5.1, 3.5, 1.4, 0.2],\n",
       "       [4.9, 3. , 1.4, 0.2],\n",
       "       [4.7, 3.2, 1.3, 0.2],\n",
       "       [4.6, 3.1, 1.5, 0.2],\n",
       "       [5. , 3.6, 1.4, 0.2],\n",
       "       [5.4, 3.9, 1.7, 0.4],\n",
       "       [4.6, 3.4, 1.4, 0.3],\n",
       "       [5. , 3.4, 1.5, 0.2],\n",
       "       [4.4, 2.9, 1.4, 0.2],\n",
       "       [4.9, 3.1, 1.5, 0.1],\n",
       "       [5.4, 3.7, 1.5, 0.2],\n",
       "       [4.8, 3.4, 1.6, 0.2],\n",
       "       [4.8, 3. , 1.4, 0.1],\n",
       "       [4.3, 3. , 1.1, 0.1],\n",
       "       [5.8, 4. , 1.2, 0.2],\n",
       "       [5.7, 4.4, 1.5, 0.4],\n",
       "       [5.4, 3.9, 1.3, 0.4],\n",
       "       [5.1, 3.5, 1.4, 0.3],\n",
       "       [5.7, 3.8, 1.7, 0.3],\n",
       "       [5.1, 3.8, 1.5, 0.3],\n",
       "       [5.4, 3.4, 1.7, 0.2],\n",
       "       [5.1, 3.7, 1.5, 0.4],\n",
       "       [4.6, 3.6, 1. , 0.2],\n",
       "       [5.1, 3.3, 1.7, 0.5],\n",
       "       [4.8, 3.4, 1.9, 0.2],\n",
       "       [5. , 3. , 1.6, 0.2],\n",
       "       [5. , 3.4, 1.6, 0.4],\n",
       "       [5.2, 3.5, 1.5, 0.2],\n",
       "       [5.2, 3.4, 1.4, 0.2],\n",
       "       [4.7, 3.2, 1.6, 0.2],\n",
       "       [4.8, 3.1, 1.6, 0.2],\n",
       "       [5.4, 3.4, 1.5, 0.4],\n",
       "       [5.2, 4.1, 1.5, 0.1],\n",
       "       [5.5, 4.2, 1.4, 0.2],\n",
       "       [4.9, 3.1, 1.5, 0.1],\n",
       "       [5. , 3.2, 1.2, 0.2],\n",
       "       [5.5, 3.5, 1.3, 0.2],\n",
       "       [4.9, 3.1, 1.5, 0.1],\n",
       "       [4.4, 3. , 1.3, 0.2],\n",
       "       [5.1, 3.4, 1.5, 0.2],\n",
       "       [5. , 3.5, 1.3, 0.3],\n",
       "       [4.5, 2.3, 1.3, 0.3],\n",
       "       [4.4, 3.2, 1.3, 0.2],\n",
       "       [5. , 3.5, 1.6, 0.6],\n",
       "       [5.1, 3.8, 1.9, 0.4],\n",
       "       [4.8, 3. , 1.4, 0.3],\n",
       "       [5.1, 3.8, 1.6, 0.2],\n",
       "       [4.6, 3.2, 1.4, 0.2],\n",
       "       [5.3, 3.7, 1.5, 0.2],\n",
       "       [5. , 3.3, 1.4, 0.2],\n",
       "       [7. , 3.2, 4.7, 1.4],\n",
       "       [6.4, 3.2, 4.5, 1.5],\n",
       "       [6.9, 3.1, 4.9, 1.5],\n",
       "       [5.5, 2.3, 4. , 1.3],\n",
       "       [6.5, 2.8, 4.6, 1.5],\n",
       "       [5.7, 2.8, 4.5, 1.3],\n",
       "       [6.3, 3.3, 4.7, 1.6],\n",
       "       [4.9, 2.4, 3.3, 1. ],\n",
       "       [6.6, 2.9, 4.6, 1.3],\n",
       "       [5.2, 2.7, 3.9, 1.4],\n",
       "       [5. , 2. , 3.5, 1. ],\n",
       "       [5.9, 3. , 4.2, 1.5],\n",
       "       [6. , 2.2, 4. , 1. ],\n",
       "       [6.1, 2.9, 4.7, 1.4],\n",
       "       [5.6, 2.9, 3.6, 1.3],\n",
       "       [6.7, 3.1, 4.4, 1.4],\n",
       "       [5.6, 3. , 4.5, 1.5],\n",
       "       [5.8, 2.7, 4.1, 1. ],\n",
       "       [6.2, 2.2, 4.5, 1.5],\n",
       "       [5.6, 2.5, 3.9, 1.1],\n",
       "       [5.9, 3.2, 4.8, 1.8],\n",
       "       [6.1, 2.8, 4. , 1.3],\n",
       "       [6.3, 2.5, 4.9, 1.5],\n",
       "       [6.1, 2.8, 4.7, 1.2],\n",
       "       [6.4, 2.9, 4.3, 1.3],\n",
       "       [6.6, 3. , 4.4, 1.4],\n",
       "       [6.8, 2.8, 4.8, 1.4],\n",
       "       [6.7, 3. , 5. , 1.7],\n",
       "       [6. , 2.9, 4.5, 1.5],\n",
       "       [5.7, 2.6, 3.5, 1. ],\n",
       "       [5.5, 2.4, 3.8, 1.1],\n",
       "       [5.5, 2.4, 3.7, 1. ],\n",
       "       [5.8, 2.7, 3.9, 1.2],\n",
       "       [6. , 2.7, 5.1, 1.6],\n",
       "       [5.4, 3. , 4.5, 1.5],\n",
       "       [6. , 3.4, 4.5, 1.6],\n",
       "       [6.7, 3.1, 4.7, 1.5],\n",
       "       [6.3, 2.3, 4.4, 1.3],\n",
       "       [5.6, 3. , 4.1, 1.3],\n",
       "       [5.5, 2.5, 4. , 1.3],\n",
       "       [5.5, 2.6, 4.4, 1.2],\n",
       "       [6.1, 3. , 4.6, 1.4],\n",
       "       [5.8, 2.6, 4. , 1.2],\n",
       "       [5. , 2.3, 3.3, 1. ],\n",
       "       [5.6, 2.7, 4.2, 1.3],\n",
       "       [5.7, 3. , 4.2, 1.2],\n",
       "       [5.7, 2.9, 4.2, 1.3],\n",
       "       [6.2, 2.9, 4.3, 1.3],\n",
       "       [5.1, 2.5, 3. , 1.1],\n",
       "       [5.7, 2.8, 4.1, 1.3],\n",
       "       [6.3, 3.3, 6. , 2.5],\n",
       "       [5.8, 2.7, 5.1, 1.9],\n",
       "       [7.1, 3. , 5.9, 2.1],\n",
       "       [6.3, 2.9, 5.6, 1.8],\n",
       "       [6.5, 3. , 5.8, 2.2],\n",
       "       [7.6, 3. , 6.6, 2.1],\n",
       "       [4.9, 2.5, 4.5, 1.7],\n",
       "       [7.3, 2.9, 6.3, 1.8],\n",
       "       [6.7, 2.5, 5.8, 1.8],\n",
       "       [7.2, 3.6, 6.1, 2.5],\n",
       "       [6.5, 3.2, 5.1, 2. ],\n",
       "       [6.4, 2.7, 5.3, 1.9],\n",
       "       [6.8, 3. , 5.5, 2.1],\n",
       "       [5.7, 2.5, 5. , 2. ],\n",
       "       [5.8, 2.8, 5.1, 2.4],\n",
       "       [6.4, 3.2, 5.3, 2.3],\n",
       "       [6.5, 3. , 5.5, 1.8],\n",
       "       [7.7, 3.8, 6.7, 2.2],\n",
       "       [7.7, 2.6, 6.9, 2.3],\n",
       "       [6. , 2.2, 5. , 1.5],\n",
       "       [6.9, 3.2, 5.7, 2.3],\n",
       "       [5.6, 2.8, 4.9, 2. ],\n",
       "       [7.7, 2.8, 6.7, 2. ],\n",
       "       [6.3, 2.7, 4.9, 1.8],\n",
       "       [6.7, 3.3, 5.7, 2.1],\n",
       "       [7.2, 3.2, 6. , 1.8],\n",
       "       [6.2, 2.8, 4.8, 1.8],\n",
       "       [6.1, 3. , 4.9, 1.8],\n",
       "       [6.4, 2.8, 5.6, 2.1],\n",
       "       [7.2, 3. , 5.8, 1.6],\n",
       "       [7.4, 2.8, 6.1, 1.9],\n",
       "       [7.9, 3.8, 6.4, 2. ],\n",
       "       [6.4, 2.8, 5.6, 2.2],\n",
       "       [6.3, 2.8, 5.1, 1.5],\n",
       "       [6.1, 2.6, 5.6, 1.4],\n",
       "       [7.7, 3. , 6.1, 2.3],\n",
       "       [6.3, 3.4, 5.6, 2.4],\n",
       "       [6.4, 3.1, 5.5, 1.8],\n",
       "       [6. , 3. , 4.8, 1.8],\n",
       "       [6.9, 3.1, 5.4, 2.1],\n",
       "       [6.7, 3.1, 5.6, 2.4],\n",
       "       [6.9, 3.1, 5.1, 2.3],\n",
       "       [5.8, 2.7, 5.1, 1.9],\n",
       "       [6.8, 3.2, 5.9, 2.3],\n",
       "       [6.7, 3.3, 5.7, 2.5],\n",
       "       [6.7, 3. , 5.2, 2.3],\n",
       "       [6.3, 2.5, 5. , 1.9],\n",
       "       [6.5, 3. , 5.2, 2. ],\n",
       "       [6.2, 3.4, 5.4, 2.3],\n",
       "       [5.9, 3. , 5.1, 1.8]])"
      ]
     },
     "execution_count": 117,
     "metadata": {},
     "output_type": "execute_result"
    }
   ],
   "source": [
    "x"
   ]
  },
  {
   "cell_type": "code",
   "execution_count": 118,
   "id": "dcfae4c6",
   "metadata": {},
   "outputs": [],
   "source": [
    "y = data.iloc[:,4].values"
   ]
  },
  {
   "cell_type": "code",
   "execution_count": 119,
   "id": "05670879",
   "metadata": {},
   "outputs": [
    {
     "data": {
      "text/plain": [
       "array([0, 0, 0, 0, 0, 0, 0, 0, 0, 0, 0, 0, 0, 0, 0, 0, 0, 0, 0, 0, 0, 0,\n",
       "       0, 0, 0, 0, 0, 0, 0, 0, 0, 0, 0, 0, 0, 0, 0, 0, 0, 0, 0, 0, 0, 0,\n",
       "       0, 0, 0, 0, 0, 0, 1, 1, 1, 1, 1, 1, 1, 1, 1, 1, 1, 1, 1, 1, 1, 1,\n",
       "       1, 1, 1, 1, 1, 1, 1, 1, 1, 1, 1, 1, 1, 1, 1, 1, 1, 1, 1, 1, 1, 1,\n",
       "       1, 1, 1, 1, 1, 1, 1, 1, 1, 1, 1, 1, 2, 2, 2, 2, 2, 2, 2, 2, 2, 2,\n",
       "       2, 2, 2, 2, 2, 2, 2, 2, 2, 2, 2, 2, 2, 2, 2, 2, 2, 2, 2, 2, 2, 2,\n",
       "       2, 2, 2, 2, 2, 2, 2, 2, 2, 2, 2, 2, 2, 2, 2, 2, 2, 2])"
      ]
     },
     "execution_count": 119,
     "metadata": {},
     "output_type": "execute_result"
    }
   ],
   "source": [
    "y"
   ]
  },
  {
   "cell_type": "code",
   "execution_count": 120,
   "id": "c444dbc2",
   "metadata": {},
   "outputs": [],
   "source": [
    "from sklearn.model_selection import train_test_split\n",
    "x_train,x_test,y_train,y_test = train_test_split(x,y,test_size=0.2,random_state=0)"
   ]
  },
  {
   "cell_type": "code",
   "execution_count": 121,
   "id": "65e3b61c",
   "metadata": {},
   "outputs": [
    {
     "data": {
      "text/plain": [
       "(120, 4)"
      ]
     },
     "execution_count": 121,
     "metadata": {},
     "output_type": "execute_result"
    }
   ],
   "source": [
    "x_train.shape"
   ]
  },
  {
   "cell_type": "code",
   "execution_count": 122,
   "id": "0cbbdf70",
   "metadata": {},
   "outputs": [
    {
     "data": {
      "text/plain": [
       "(30, 4)"
      ]
     },
     "execution_count": 122,
     "metadata": {},
     "output_type": "execute_result"
    }
   ],
   "source": [
    "x_test.shape"
   ]
  },
  {
   "cell_type": "code",
   "execution_count": 123,
   "id": "73a6f2ac",
   "metadata": {},
   "outputs": [],
   "source": [
    "from keras.models import Sequential\n",
    "from keras.layers import Dense"
   ]
  },
  {
   "cell_type": "code",
   "execution_count": 124,
   "id": "79f63dad",
   "metadata": {},
   "outputs": [],
   "source": [
    "model = Sequential([\n",
    "    Dense(8,input_dim=4,activation='relu'),\n",
    "    Dense(8,activation='relu'),\n",
    "    Dense(8,activation='relu'),\n",
    "    Dense(3,activation='softmax')\n",
    "])"
   ]
  },
  {
   "cell_type": "code",
   "execution_count": 125,
   "id": "1e088884",
   "metadata": {},
   "outputs": [
    {
     "name": "stdout",
     "output_type": "stream",
     "text": [
      "Model: \"sequential_2\"\n",
      "_________________________________________________________________\n",
      "Layer (type)                 Output Shape              Param #   \n",
      "=================================================================\n",
      "dense_8 (Dense)              (None, 8)                 40        \n",
      "_________________________________________________________________\n",
      "dense_9 (Dense)              (None, 8)                 72        \n",
      "_________________________________________________________________\n",
      "dense_10 (Dense)             (None, 8)                 72        \n",
      "_________________________________________________________________\n",
      "dense_11 (Dense)             (None, 3)                 27        \n",
      "=================================================================\n",
      "Total params: 211\n",
      "Trainable params: 211\n",
      "Non-trainable params: 0\n",
      "_________________________________________________________________\n"
     ]
    }
   ],
   "source": [
    "model.summary()"
   ]
  },
  {
   "cell_type": "code",
   "execution_count": 126,
   "id": "f62584e6",
   "metadata": {},
   "outputs": [],
   "source": [
    "model.compile(loss= 'sparse_categorical_crossentropy',optimizer='adam',metrics=['accuracy'])"
   ]
  },
  {
   "cell_type": "code",
   "execution_count": 135,
   "id": "418caad0",
   "metadata": {},
   "outputs": [
    {
     "name": "stdout",
     "output_type": "stream",
     "text": [
      "Epoch 1/80\n",
      "4/4 [==============================] - 0s 0s/step - loss: 0.3100 - accuracy: 0.9417\n",
      "Epoch 2/80\n",
      "4/4 [==============================] - 0s 0s/step - loss: 0.3038 - accuracy: 0.9500\n",
      "Epoch 3/80\n",
      "4/4 [==============================] - 0s 0s/step - loss: 0.2975 - accuracy: 0.9583\n",
      "Epoch 4/80\n",
      "4/4 [==============================] - 0s 0s/step - loss: 0.2922 - accuracy: 0.9583\n",
      "Epoch 5/80\n",
      "4/4 [==============================] - 0s 0s/step - loss: 0.2864 - accuracy: 0.9583\n",
      "Epoch 6/80\n",
      "4/4 [==============================] - 0s 0s/step - loss: 0.2807 - accuracy: 0.9583\n",
      "Epoch 7/80\n",
      "4/4 [==============================] - 0s 0s/step - loss: 0.2751 - accuracy: 0.9583\n",
      "Epoch 8/80\n",
      "4/4 [==============================] - 0s 0s/step - loss: 0.2700 - accuracy: 0.9583\n",
      "Epoch 9/80\n",
      "4/4 [==============================] - 0s 0s/step - loss: 0.2651 - accuracy: 0.9583\n",
      "Epoch 10/80\n",
      "4/4 [==============================] - 0s 0s/step - loss: 0.2596 - accuracy: 0.9583\n",
      "Epoch 11/80\n",
      "4/4 [==============================] - 0s 5ms/step - loss: 0.2548 - accuracy: 0.9583\n",
      "Epoch 12/80\n",
      "4/4 [==============================] - 0s 0s/step - loss: 0.2489 - accuracy: 0.9583\n",
      "Epoch 13/80\n",
      "4/4 [==============================] - 0s 0s/step - loss: 0.2443 - accuracy: 0.9583\n",
      "Epoch 14/80\n",
      "4/4 [==============================] - 0s 5ms/step - loss: 0.2395 - accuracy: 0.9667\n",
      "Epoch 15/80\n",
      "4/4 [==============================] - 0s 0s/step - loss: 0.2358 - accuracy: 0.9667\n",
      "Epoch 16/80\n",
      "4/4 [==============================] - 0s 0s/step - loss: 0.2301 - accuracy: 0.9667\n",
      "Epoch 17/80\n",
      "4/4 [==============================] - 0s 5ms/step - loss: 0.2264 - accuracy: 0.9583\n",
      "Epoch 18/80\n",
      "4/4 [==============================] - 0s 0s/step - loss: 0.2215 - accuracy: 0.9583\n",
      "Epoch 19/80\n",
      "4/4 [==============================] - 0s 0s/step - loss: 0.2172 - accuracy: 0.9667\n",
      "Epoch 20/80\n",
      "4/4 [==============================] - 0s 5ms/step - loss: 0.2131 - accuracy: 0.9750\n",
      "Epoch 21/80\n",
      "4/4 [==============================] - 0s 0s/step - loss: 0.2092 - accuracy: 0.9667\n",
      "Epoch 22/80\n",
      "4/4 [==============================] - 0s 0s/step - loss: 0.2052 - accuracy: 0.9583\n",
      "Epoch 23/80\n",
      "4/4 [==============================] - 0s 5ms/step - loss: 0.2014 - accuracy: 0.9583\n",
      "Epoch 24/80\n",
      "4/4 [==============================] - 0s 0s/step - loss: 0.1973 - accuracy: 0.9667\n",
      "Epoch 25/80\n",
      "4/4 [==============================] - 0s 0s/step - loss: 0.1954 - accuracy: 0.9750\n",
      "Epoch 26/80\n",
      "4/4 [==============================] - 0s 5ms/step - loss: 0.1910 - accuracy: 0.9750\n",
      "Epoch 27/80\n",
      "4/4 [==============================] - 0s 0s/step - loss: 0.1871 - accuracy: 0.9667\n",
      "Epoch 28/80\n",
      "4/4 [==============================] - 0s 0s/step - loss: 0.1855 - accuracy: 0.9667\n",
      "Epoch 29/80\n",
      "4/4 [==============================] - 0s 5ms/step - loss: 0.1804 - accuracy: 0.9750\n",
      "Epoch 30/80\n",
      "4/4 [==============================] - 0s 0s/step - loss: 0.1773 - accuracy: 0.9667\n",
      "Epoch 31/80\n",
      "4/4 [==============================] - 0s 0s/step - loss: 0.1743 - accuracy: 0.9667\n",
      "Epoch 32/80\n",
      "4/4 [==============================] - 0s 5ms/step - loss: 0.1729 - accuracy: 0.9750\n",
      "Epoch 33/80\n",
      "4/4 [==============================] - 0s 0s/step - loss: 0.1688 - accuracy: 0.9750\n",
      "Epoch 34/80\n",
      "4/4 [==============================] - 0s 0s/step - loss: 0.1664 - accuracy: 0.9667\n",
      "Epoch 35/80\n",
      "4/4 [==============================] - 0s 5ms/step - loss: 0.1662 - accuracy: 0.9667\n",
      "Epoch 36/80\n",
      "4/4 [==============================] - 0s 0s/step - loss: 0.1608 - accuracy: 0.9750\n",
      "Epoch 37/80\n",
      "4/4 [==============================] - 0s 0s/step - loss: 0.1593 - accuracy: 0.9667\n",
      "Epoch 38/80\n",
      "4/4 [==============================] - 0s 0s/step - loss: 0.1562 - accuracy: 0.9667\n",
      "Epoch 39/80\n",
      "4/4 [==============================] - 0s 0s/step - loss: 0.1537 - accuracy: 0.9750\n",
      "Epoch 40/80\n",
      "4/4 [==============================] - 0s 0s/step - loss: 0.1521 - accuracy: 0.9750\n",
      "Epoch 41/80\n",
      "4/4 [==============================] - 0s 0s/step - loss: 0.1487 - accuracy: 0.9750\n",
      "Epoch 42/80\n",
      "4/4 [==============================] - 0s 0s/step - loss: 0.1474 - accuracy: 0.9750\n",
      "Epoch 43/80\n",
      "4/4 [==============================] - 0s 0s/step - loss: 0.1459 - accuracy: 0.9750\n",
      "Epoch 44/80\n",
      "4/4 [==============================] - 0s 0s/step - loss: 0.1439 - accuracy: 0.9750\n",
      "Epoch 45/80\n",
      "4/4 [==============================] - 0s 0s/step - loss: 0.1416 - accuracy: 0.9750\n",
      "Epoch 46/80\n",
      "4/4 [==============================] - 0s 0s/step - loss: 0.1410 - accuracy: 0.9667\n",
      "Epoch 47/80\n",
      "4/4 [==============================] - 0s 0s/step - loss: 0.1382 - accuracy: 0.9667\n",
      "Epoch 48/80\n",
      "4/4 [==============================] - 0s 0s/step - loss: 0.1363 - accuracy: 0.9750\n",
      "Epoch 49/80\n",
      "4/4 [==============================] - 0s 0s/step - loss: 0.1362 - accuracy: 0.9750\n",
      "Epoch 50/80\n",
      "4/4 [==============================] - 0s 0s/step - loss: 0.1328 - accuracy: 0.9750\n",
      "Epoch 51/80\n",
      "4/4 [==============================] - 0s 0s/step - loss: 0.1328 - accuracy: 0.9750\n",
      "Epoch 52/80\n",
      "4/4 [==============================] - 0s 0s/step - loss: 0.1316 - accuracy: 0.9667\n",
      "Epoch 53/80\n",
      "4/4 [==============================] - 0s 0s/step - loss: 0.1296 - accuracy: 0.9750\n",
      "Epoch 54/80\n",
      "4/4 [==============================] - 0s 0s/step - loss: 0.1271 - accuracy: 0.9750\n",
      "Epoch 55/80\n",
      "4/4 [==============================] - 0s 0s/step - loss: 0.1260 - accuracy: 0.9750\n",
      "Epoch 56/80\n",
      "4/4 [==============================] - 0s 5ms/step - loss: 0.1246 - accuracy: 0.9750\n",
      "Epoch 57/80\n",
      "4/4 [==============================] - 0s 0s/step - loss: 0.1232 - accuracy: 0.9750\n",
      "Epoch 58/80\n",
      "4/4 [==============================] - 0s 0s/step - loss: 0.1221 - accuracy: 0.9750\n",
      "Epoch 59/80\n",
      "4/4 [==============================] - 0s 5ms/step - loss: 0.1215 - accuracy: 0.9750\n",
      "Epoch 60/80\n",
      "4/4 [==============================] - 0s 0s/step - loss: 0.1197 - accuracy: 0.9750\n",
      "Epoch 61/80\n",
      "4/4 [==============================] - 0s 0s/step - loss: 0.1191 - accuracy: 0.9750\n",
      "Epoch 62/80\n",
      "4/4 [==============================] - 0s 5ms/step - loss: 0.1181 - accuracy: 0.9750\n",
      "Epoch 63/80\n",
      "4/4 [==============================] - 0s 0s/step - loss: 0.1165 - accuracy: 0.9750\n",
      "Epoch 64/80\n",
      "4/4 [==============================] - 0s 0s/step - loss: 0.1152 - accuracy: 0.9750\n",
      "Epoch 65/80\n",
      "4/4 [==============================] - 0s 5ms/step - loss: 0.1154 - accuracy: 0.9750\n",
      "Epoch 66/80\n",
      "4/4 [==============================] - 0s 0s/step - loss: 0.1138 - accuracy: 0.9750\n",
      "Epoch 67/80\n",
      "4/4 [==============================] - 0s 0s/step - loss: 0.1125 - accuracy: 0.9750\n",
      "Epoch 68/80\n",
      "4/4 [==============================] - 0s 0s/step - loss: 0.1122 - accuracy: 0.9750\n",
      "Epoch 69/80\n",
      "4/4 [==============================] - 0s 0s/step - loss: 0.1105 - accuracy: 0.9750\n",
      "Epoch 70/80\n",
      "4/4 [==============================] - 0s 0s/step - loss: 0.1097 - accuracy: 0.9750\n",
      "Epoch 71/80\n",
      "4/4 [==============================] - 0s 0s/step - loss: 0.1085 - accuracy: 0.9750\n",
      "Epoch 72/80\n",
      "4/4 [==============================] - 0s 0s/step - loss: 0.1080 - accuracy: 0.9750\n",
      "Epoch 73/80\n",
      "4/4 [==============================] - 0s 0s/step - loss: 0.1104 - accuracy: 0.9667\n",
      "Epoch 74/80\n",
      "4/4 [==============================] - 0s 0s/step - loss: 0.1093 - accuracy: 0.9750\n",
      "Epoch 75/80\n",
      "4/4 [==============================] - 0s 0s/step - loss: 0.1065 - accuracy: 0.9750\n",
      "Epoch 76/80\n",
      "4/4 [==============================] - 0s 0s/step - loss: 0.1044 - accuracy: 0.9750\n",
      "Epoch 77/80\n",
      "4/4 [==============================] - 0s 0s/step - loss: 0.1042 - accuracy: 0.9750\n",
      "Epoch 78/80\n",
      "4/4 [==============================] - 0s 5ms/step - loss: 0.1047 - accuracy: 0.9750\n",
      "Epoch 79/80\n",
      "4/4 [==============================] - 0s 0s/step - loss: 0.1029 - accuracy: 0.9750\n",
      "Epoch 80/80\n",
      "4/4 [==============================] - 0s 0s/step - loss: 0.1032 - accuracy: 0.9750\n"
     ]
    },
    {
     "data": {
      "text/plain": [
       "<keras.callbacks.History at 0x24cccbb7c50>"
      ]
     },
     "execution_count": 135,
     "metadata": {},
     "output_type": "execute_result"
    }
   ],
   "source": [
    "model.fit(x_train,y_train,epochs=80)"
   ]
  },
  {
   "cell_type": "code",
   "execution_count": 136,
   "id": "28a4d7b8",
   "metadata": {},
   "outputs": [],
   "source": [
    "pred = model.predict(x_test)"
   ]
  },
  {
   "cell_type": "code",
   "execution_count": 137,
   "id": "1649c704",
   "metadata": {},
   "outputs": [
    {
     "data": {
      "text/plain": [
       "array([[0.  , 0.01, 0.99],\n",
       "       [0.01, 0.96, 0.03],\n",
       "       [0.99, 0.01, 0.  ],\n",
       "       [0.  , 0.01, 0.99],\n",
       "       [0.99, 0.01, 0.  ],\n",
       "       [0.  , 0.  , 1.  ],\n",
       "       [0.99, 0.01, 0.  ],\n",
       "       [0.  , 0.95, 0.04],\n",
       "       [0.  , 0.9 , 0.1 ],\n",
       "       [0.01, 0.98, 0.01],\n",
       "       [0.  , 0.03, 0.97],\n",
       "       [0.  , 0.97, 0.02],\n",
       "       [0.  , 0.88, 0.12],\n",
       "       [0.  , 0.89, 0.11],\n",
       "       [0.  , 0.83, 0.17],\n",
       "       [0.99, 0.01, 0.  ],\n",
       "       [0.  , 0.87, 0.13],\n",
       "       [0.  , 0.8 , 0.19],\n",
       "       [0.98, 0.02, 0.  ],\n",
       "       [0.99, 0.01, 0.  ],\n",
       "       [0.  , 0.06, 0.94],\n",
       "       [0.  , 0.81, 0.19],\n",
       "       [0.98, 0.02, 0.  ],\n",
       "       [0.98, 0.02, 0.  ],\n",
       "       [0.  , 0.4 , 0.6 ],\n",
       "       [0.99, 0.01, 0.  ],\n",
       "       [0.98, 0.02, 0.  ],\n",
       "       [0.01, 0.97, 0.02],\n",
       "       [0.04, 0.95, 0.01],\n",
       "       [0.98, 0.02, 0.  ]], dtype=float32)"
      ]
     },
     "execution_count": 137,
     "metadata": {},
     "output_type": "execute_result"
    }
   ],
   "source": [
    "pred.round(2)"
   ]
  },
  {
   "cell_type": "code",
   "execution_count": 138,
   "id": "203efdab",
   "metadata": {},
   "outputs": [
    {
     "data": {
      "text/plain": [
       "(30, 3)"
      ]
     },
     "execution_count": 138,
     "metadata": {},
     "output_type": "execute_result"
    }
   ],
   "source": [
    "pred.shape"
   ]
  },
  {
   "cell_type": "code",
   "execution_count": 139,
   "id": "b85ffb64",
   "metadata": {},
   "outputs": [
    {
     "data": {
      "text/plain": [
       "array([2, 1, 0, 2, 0, 2, 0, 1, 1, 1, 2, 1, 1, 1, 1, 0, 1, 1, 0, 0, 2, 1,\n",
       "       0, 0, 2, 0, 0, 1, 1, 0], dtype=int64)"
      ]
     },
     "execution_count": 139,
     "metadata": {},
     "output_type": "execute_result"
    }
   ],
   "source": [
    "np.argmax(pred,axis=1)"
   ]
  },
  {
   "cell_type": "code",
   "execution_count": 140,
   "id": "1013dca8",
   "metadata": {},
   "outputs": [],
   "source": [
    "from sklearn.metrics import confusion_matrix,classification_report"
   ]
  },
  {
   "cell_type": "code",
   "execution_count": 141,
   "id": "948a2c11",
   "metadata": {},
   "outputs": [
    {
     "data": {
      "text/plain": [
       "array([[11,  0,  0],\n",
       "       [ 0, 13,  0],\n",
       "       [ 0,  0,  6]], dtype=int64)"
      ]
     },
     "execution_count": 141,
     "metadata": {},
     "output_type": "execute_result"
    }
   ],
   "source": [
    "confusion_matrix(y_test,np.argmax(pred,axis=1))"
   ]
  },
  {
   "cell_type": "code",
   "execution_count": 142,
   "id": "e2d34a3e",
   "metadata": {},
   "outputs": [
    {
     "name": "stdout",
     "output_type": "stream",
     "text": [
      "              precision    recall  f1-score   support\n",
      "\n",
      "           0       1.00      1.00      1.00        11\n",
      "           1       1.00      1.00      1.00        13\n",
      "           2       1.00      1.00      1.00         6\n",
      "\n",
      "    accuracy                           1.00        30\n",
      "   macro avg       1.00      1.00      1.00        30\n",
      "weighted avg       1.00      1.00      1.00        30\n",
      "\n"
     ]
    }
   ],
   "source": [
    "print(classification_report(y_test,np.argmax(pred,axis=1)))"
   ]
  },
  {
   "cell_type": "code",
   "execution_count": null,
   "id": "b51b6fdf",
   "metadata": {},
   "outputs": [],
   "source": []
  },
  {
   "cell_type": "code",
   "execution_count": null,
   "id": "5187a8dd",
   "metadata": {},
   "outputs": [],
   "source": []
  }
 ],
 "metadata": {
  "kernelspec": {
   "display_name": "Python 3",
   "language": "python",
   "name": "python3"
  },
  "language_info": {
   "codemirror_mode": {
    "name": "ipython",
    "version": 3
   },
   "file_extension": ".py",
   "mimetype": "text/x-python",
   "name": "python",
   "nbconvert_exporter": "python",
   "pygments_lexer": "ipython3",
   "version": "3.6.13"
  }
 },
 "nbformat": 4,
 "nbformat_minor": 5
}
